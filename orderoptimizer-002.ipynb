{
 "cells": [
  {
   "cell_type": "code",
   "execution_count": 1,
   "id": "c93fdd8f-976c-4c9c-b39d-012763a9cb9b",
   "metadata": {},
   "outputs": [],
   "source": [
    "import pickle\n",
    "import numpy as np\n",
    "import matplotlib as mpl\n",
    "import matplotlib.pyplot as plt\n",
    "from mpl_toolkits.axes_grid1 import make_axes_locatable\n",
    "from tqdm import tqdm"
   ]
  },
  {
   "cell_type": "markdown",
   "id": "58c690d2-2b24-488b-bcf4-e1afe1528150",
   "metadata": {},
   "source": [
    "# objective function helpers"
   ]
  },
  {
   "cell_type": "code",
   "execution_count": 2,
   "id": "d40e2f29-f319-4bbf-8993-55668b3469b2",
   "metadata": {},
   "outputs": [],
   "source": [
    "# functions to identify when prerequisites for tests have been fulfilled\n",
    "# also converting between the permutation representation and an array representation of the guessed bits\n",
    "\n",
    "# takes as input a permutation of 128 numbers represting the order of guessing state bits. \n",
    "# Outputs an array (step#,bit#) indicating which bits have been selected so far at each step.\n",
    "def construct_A(L, N=None):\n",
    "    L = np.array(L)\n",
    "    M = len(L)\n",
    "    # Infer N if not provided.\n",
    "    if N is None:\n",
    "        N = M\n",
    "    elif N < M:\n",
    "        raise ValueError(\"N must be greater than or equal to the length of L.\")\n",
    "    \n",
    "    # Initialize an (M, N) binary array with zeros.\n",
    "    A = np.zeros((M, N), dtype=int)\n",
    "    \n",
    "    # Create a mask of shape (M, M) where, for each row r, the first r+1 positions are True.\n",
    "    # This mask identifies the indices from L that should be used for each row.\n",
    "    mask = np.arange(M) <= np.arange(M)[:, None]\n",
    "    rows, pos = np.where(mask)  # rows indices and positions in L\n",
    "    \n",
    "    # Use the positions from L to determine the column indices.\n",
    "    cols = L[pos]\n",
    "    \n",
    "    # Set the corresponding entries in A to 1.\n",
    "    A[rows, cols] = 1\n",
    "    \n",
    "    return A\n",
    "\n",
    "# inverse function\n",
    "def A_to_perm(A):\n",
    "    return np.argmax(np.diff(A,prepend=0,axis=0),axis=1)\n",
    "\n",
    "# input A = array (step#,state bit #) which indicated the bits filled in at each step\n",
    "# input B = array (state bit #, test #) which indicates the presequisites for each test\n",
    "# output C = array (state#, test#) which tests have met their presequisite conditions so far\n",
    "\n",
    "def construct_C(A, B):\n",
    "    # A has shape (X, Y) and B has shape (Y, Z)\n",
    "    # Compute the number of matching 1's between each row of A and each column of B.\n",
    "    common = np.dot(A, B)  # Resulting shape is (X, Z)\n",
    "    \n",
    "    # Count the number of ones in each column of B.\n",
    "    B_counts = np.sum(B, axis=0)  # Shape: (Z,)\n",
    "    \n",
    "    # For each cell (i, j), if the count of matching ones equals the total ones in B[:, j],\n",
    "    # then every 1 in the column B[:, j] appears in A[i, :].\n",
    "    C = (common == B_counts).astype(np.int64)\n",
    "    \n",
    "    return C"
   ]
  },
  {
   "cell_type": "markdown",
   "id": "dd014aad-3769-4b78-b46d-03d613826afb",
   "metadata": {},
   "source": [
    "# objective functions\n",
    "\n",
    "we want to minimize score_guessorder()"
   ]
  },
  {
   "cell_type": "code",
   "execution_count": 3,
   "id": "a9c51ff8-1b15-4289-9f1a-f18e04010306",
   "metadata": {},
   "outputs": [
    {
     "data": {
      "text/plain": [
       "((652,), (128, 652))"
      ]
     },
     "execution_count": 3,
     "metadata": {},
     "output_type": "execute_result"
    }
   ],
   "source": [
    "# the functions to optimize\n",
    "\n",
    "# input V = length 128 binary vector of the input bits guessed so far\n",
    "# output = bits of disparity at that point in the process\n",
    "\n",
    "def f_to_optimize(V):\n",
    "    tests_achieved = construct_C(V,test_prereqs_trim)\n",
    "    return sum(V) - tests_achieved @ testinfos_trim\n",
    "\n",
    "# input guessorder = permutation\n",
    "# output = maximum bits of disparity at any point\n",
    "\n",
    "def score_guessorder(guessorder):\n",
    "    cumulativeguessed = construct_A(guessorder)\n",
    "    return max([f_to_optimize(V) for V in cumulativeguessed])\n",
    "\n",
    "testinfos_trim = pickle.load(open('testinfos_trim.pkl','rb'))\n",
    "test_prereqs_trim = pickle.load(open('test_prereqs_trim.pkl','rb'))\n",
    "\n",
    "testinfos_trim.shape,test_prereqs_trim.shape"
   ]
  },
  {
   "cell_type": "markdown",
   "id": "1a52e71f-125d-4508-9533-632b65358bd6",
   "metadata": {},
   "source": [
    "# my optimization code"
   ]
  },
  {
   "cell_type": "code",
   "execution_count": 4,
   "id": "0d18de67-cd8c-4bbe-8ab7-449e67a78b5c",
   "metadata": {},
   "outputs": [],
   "source": [
    "# Optimization code below here\n",
    "# it works by optimizing the known information at a single point in the process\n",
    "# I chose 90 bits / 128 because that is around where maximum disparity occurs\n",
    "# then once we know which 90/128 bits to chose first, we work forward/backward to fill out the rest of the guess order\n",
    "# when then double-check the true score of the overall order in case the maximum wasn't quite at index 90"
   ]
  },
  {
   "cell_type": "code",
   "execution_count": 5,
   "id": "d1432961-7f19-4220-a218-dd9c2cb89f75",
   "metadata": {},
   "outputs": [],
   "source": [
    "# fuctions bool_array_to_int, int_to_bool_array, random_multi_swap, optimize_binary_vector are some optimization code\n",
    "# credit to chatgpt\n",
    "\n",
    "def bool_array_to_int(arr):\n",
    "    \"\"\"\n",
    "    Convert a length-128 binary (0/1) array to an integer.\n",
    "    Using Python’s built-in int avoids overflow since Python ints\n",
    "    are of arbitrary precision.\n",
    "    \"\"\"\n",
    "    key = 0\n",
    "    for bit in arr:\n",
    "        key = (key << 1) | int(bit)\n",
    "    return key\n",
    "\n",
    "def int_to_bool_array(x):\n",
    "    \"\"\"\n",
    "    Convert an integer to a 128-length array of 0/1 bits.\n",
    "    \"\"\"\n",
    "    out = np.zeros(128, dtype=np.uint8)\n",
    "    for i in range(127, -1, -1):\n",
    "        out[i] = x & 1\n",
    "        x >>= 1\n",
    "    return out\n",
    "\n",
    "def random_multi_swap(current, n_swap):\n",
    "    \"\"\"\n",
    "    Perform a random multi-swap of size n_swap:\n",
    "    - Randomly pick n_swap positions of '1's and n_swap positions of '0's\n",
    "      and swap them, preserving the total number of ones.\n",
    "    \"\"\"\n",
    "    newV = current.copy()\n",
    "    ones_idx = np.flatnonzero(current)\n",
    "    zeros_idx = np.flatnonzero(current == 0)\n",
    "\n",
    "    if len(ones_idx) < n_swap or len(zeros_idx) < n_swap:\n",
    "        return newV\n",
    "\n",
    "    chosen_ones = np.random.choice(ones_idx, size=n_swap, replace=False)\n",
    "    chosen_zeros = np.random.choice(zeros_idx, size=n_swap, replace=False)\n",
    "\n",
    "    newV[chosen_ones] = 0\n",
    "    newV[chosen_zeros] = 1\n",
    "\n",
    "    return newV\n",
    "\n",
    "def optimize_binary_vector(f, initial_V, max_evals):\n",
    "    \"\"\"\n",
    "    Perform a local-search + adaptive multi-swap escape to maximize f(V).\n",
    "    V must be a length-128 array with exactly 80 bits set to 1.\n",
    "\n",
    "    :param f:         Black-box objective function f(V: np.ndarray) -> float\n",
    "    :param initial_V: Initial guess, a 128-length array with sum == 80\n",
    "    :param max_evals: Maximum number of function evaluations\n",
    "    :return:          The best 128-bit vector (np.ndarray) found\n",
    "    \"\"\"\n",
    "    V = np.array(initial_V, dtype=np.uint8)\n",
    "    if V.shape[0] != 128:# or V.sum() != 80:\n",
    "        raise ValueError(\"initial_V must be length 128 with exactly 80 ones.\")\n",
    "\n",
    "    # Cache computed objective values: key (int) -> score (float)\n",
    "    cache = {}\n",
    "    def get_score(vec):\n",
    "        key = bool_array_to_int(vec)\n",
    "        if key not in cache:\n",
    "            cache[key] = f(vec)\n",
    "        return cache[key]\n",
    "\n",
    "    bestV = V.copy()\n",
    "    best_score = get_score(bestV)\n",
    "    eval_count = 1\n",
    "\n",
    "    # Adaptive multi-swap parameter\n",
    "    multi_swap_size = 2\n",
    "    no_improvement_streak = 0\n",
    "\n",
    "    while eval_count < max_evals:\n",
    "        improved = False\n",
    "\n",
    "        # Indices of ones and zeros\n",
    "        ones_idx = np.flatnonzero(bestV)\n",
    "        zeros_idx = np.flatnonzero(bestV == 0)\n",
    "\n",
    "        # Shuffle indices for randomized exploration.\n",
    "        np.random.shuffle(ones_idx)\n",
    "        np.random.shuffle(zeros_idx)\n",
    "\n",
    "        for i in range(len(ones_idx)):\n",
    "            if eval_count >= max_evals:\n",
    "                break\n",
    "            for j in range(len(zeros_idx)):\n",
    "                if eval_count >= max_evals:\n",
    "                    break\n",
    "\n",
    "                newV = bestV.copy()\n",
    "                newV[ones_idx[i]] = 0\n",
    "                newV[zeros_idx[j]] = 1\n",
    "\n",
    "                neighbor_score = get_score(newV)\n",
    "                eval_count += 1\n",
    "\n",
    "                if neighbor_score < best_score:\n",
    "                    bestV = newV\n",
    "                    best_score = neighbor_score\n",
    "                    improved = True\n",
    "                    break  # Accept the first improvement found.\n",
    "            if improved or eval_count >= max_evals:\n",
    "                break\n",
    "\n",
    "        if improved:\n",
    "            no_improvement_streak = 0\n",
    "            continue\n",
    "\n",
    "        # If no single-swap improvement was found, attempt a random multi-swap.\n",
    "        newV = random_multi_swap(bestV, multi_swap_size)\n",
    "        new_score = get_score(newV)\n",
    "        eval_count += 1\n",
    "\n",
    "        if new_score < best_score:\n",
    "            bestV = newV\n",
    "            best_score = new_score\n",
    "            no_improvement_streak = 0\n",
    "        else:\n",
    "            no_improvement_streak += 1\n",
    "            # Increase multi-swap size adaptively if stuck.\n",
    "            if no_improvement_streak % 3 == 0:\n",
    "                multi_swap_size = min(multi_swap_size + 1, 10)\n",
    "\n",
    "    return bestV"
   ]
  },
  {
   "cell_type": "code",
   "execution_count": 6,
   "id": "e2bc4d34-e89e-4501-9ee7-4523fcdbc90c",
   "metadata": {},
   "outputs": [],
   "source": [
    "# imagine that we have a vector V that represents the number of bits guessed at some point\n",
    "# in other words, V is a single row from a matrix A\n",
    "# instead of optimizing the permutation, we can optimize V\n",
    "# then we can fill out the rest of the rows of A in a greedy manner\n",
    "\n",
    "def greedy_from_intermediate_slice(V, f_to_optimize):\n",
    "    \"\"\"\n",
    "    Given a binary vector V (NumPy array) and a scoring function f_to_optimize,\n",
    "    returns an M x M NumPy array where each row is a vector in the greedy sequence.\n",
    "    \n",
    "    The sequence is constructed by:\n",
    "      1. Shrinking: Starting from V (with N ones), at each step flip a 1 to 0\n",
    "         (choosing the bit whose removal maximizes the score) until only one 1 remains.\n",
    "      2. Growing: Starting from V, at each step flip a 0 to 1\n",
    "         (choosing the bit whose addition maximizes the score) until all bits are 1.\n",
    "      3. Merging: The reversed shrinking sequence (which goes from one 1 up to V)\n",
    "         is concatenated with the growing sequence (omitting the duplicate V).\n",
    "    \n",
    "    In the final M x M array:\n",
    "      - The first row contains exactly one 1.\n",
    "      - The Nth row (1-indexed) corresponds to the original vector V.\n",
    "      - The last row contains all 1s.\n",
    "    \n",
    "    Parameters:\n",
    "    -----------\n",
    "    V : np.ndarray\n",
    "        A 1D binary NumPy array of length M.\n",
    "    f_to_optimize : callable\n",
    "        A function that takes a binary vector (NumPy array) and returns a score (float).\n",
    "    \n",
    "    Returns:\n",
    "    --------\n",
    "    np.ndarray\n",
    "        An M x M array where each row is a binary vector from the optimized sequence.\n",
    "    \"\"\"\n",
    "    M = len(V)\n",
    "    N = int(np.sum(V))  # number of ones in V\n",
    "    \n",
    "    # --- Shrinking sequence: from V (with N ones) down to a vector with a single 1.\n",
    "    shrinking_sequence = [V.copy()]\n",
    "    current = V.copy()\n",
    "    \n",
    "    # Continue until only one 1 remains.\n",
    "    while np.sum(current) > 1:\n",
    "        best_score = np.inf\n",
    "        best_candidate = None\n",
    "        # Look at indices where current is 1.\n",
    "        ones_indices = np.where(current == 1)[0]\n",
    "        for idx in ones_indices:\n",
    "            candidate = current.copy()\n",
    "            candidate[idx] = 0\n",
    "            score = f_to_optimize(candidate)\n",
    "            if score < best_score:\n",
    "                best_score = score\n",
    "                best_candidate = candidate\n",
    "        current = best_candidate\n",
    "        shrinking_sequence.append(current.copy())\n",
    "    \n",
    "    # Reverse the shrinking sequence so that it goes from a vector with one 1 up to V.\n",
    "    shrinking_sequence_reversed = shrinking_sequence[::-1]\n",
    "    \n",
    "    # --- Growing sequence: from V (with N ones) up to full ones (M ones).\n",
    "    growing_sequence = [V.copy()]\n",
    "    current = V.copy()\n",
    "    \n",
    "    # Continue until all bits are 1.\n",
    "    while np.sum(current) < M:\n",
    "        best_score = np.inf\n",
    "        best_candidate = None\n",
    "        # Look at indices where current is 0.\n",
    "        zeros_indices = np.where(current == 0)[0]\n",
    "        for idx in zeros_indices:\n",
    "            candidate = current.copy()\n",
    "            candidate[idx] = 1\n",
    "            score = f_to_optimize(candidate)\n",
    "            if score < best_score:\n",
    "                best_score = score\n",
    "                best_candidate = candidate\n",
    "        current = best_candidate\n",
    "        growing_sequence.append(current.copy())\n",
    "    \n",
    "    # --- Merge sequences.\n",
    "    # The reversed shrinking sequence gives vectors with counts: 1, 2, ..., N.\n",
    "    # The growing sequence gives vectors with counts: N, N+1, ..., M.\n",
    "    # Omit the first element of growing_sequence (which is V) to avoid duplication.\n",
    "    merged_sequence = shrinking_sequence_reversed + growing_sequence[1:]\n",
    "    \n",
    "    # Verify that the merged sequence has exactly M rows.\n",
    "    if len(merged_sequence) != M:\n",
    "        raise ValueError(f\"Expected merged sequence of length {M}, got {len(merged_sequence)}.\")\n",
    "    \n",
    "    # Convert list of vectors into an M x M NumPy array.\n",
    "    result = np.array(merged_sequence)\n",
    "    return result"
   ]
  },
  {
   "cell_type": "code",
   "execution_count": 7,
   "id": "3c3c6151-f602-4c21-ba68-7429ed8ca023",
   "metadata": {},
   "outputs": [
    {
     "data": {
      "text/plain": [
       "19"
      ]
     },
     "execution_count": 7,
     "metadata": {},
     "output_type": "execute_result"
    }
   ],
   "source": [
    "initial_guessperms = pickle.load(open('initial_guessperms.pkl','rb'))\n",
    "len(initial_guessperms)"
   ]
  },
  {
   "cell_type": "code",
   "execution_count": 8,
   "id": "cefbb724-d9af-4764-9f9b-0eff4dbe2d7a",
   "metadata": {},
   "outputs": [
    {
     "name": "stderr",
     "output_type": "stream",
     "text": [
      "100%|███████████████████████████████████████████████████████████████████████████████████| 10/10 [00:38<00:00,  3.82s/it]\n"
     ]
    }
   ],
   "source": [
    "bestperm = None\n",
    "bestpermscore = 1000\n",
    "for i in tqdm(range(10)):\n",
    "    for initial_guessperm in initial_guessperms:\n",
    "        initialV = construct_A(initial_guessperm)[90]\n",
    "        V = optimize_binary_vector(f_to_optimize, initialV, 1000)\n",
    "        A = greedy_from_intermediate_slice(V, f_to_optimize)\n",
    "        perm = A_to_perm(A)\n",
    "        permscore = score_guessorder(perm)\n",
    "        if permscore < bestpermscore:\n",
    "            bestpermscore = permscore\n",
    "            bestperm = perm"
   ]
  },
  {
   "cell_type": "code",
   "execution_count": 9,
   "id": "80c092cd-1099-4cca-960b-216f459513b2",
   "metadata": {},
   "outputs": [
    {
     "data": {
      "text/plain": [
       "np.float64(48.5162842794972)"
      ]
     },
     "execution_count": 9,
     "metadata": {},
     "output_type": "execute_result"
    }
   ],
   "source": [
    "bestpermscore"
   ]
  },
  {
   "cell_type": "code",
   "execution_count": 10,
   "id": "e35c9bdf-ddb5-477e-8fb6-8a7ea290603e",
   "metadata": {},
   "outputs": [
    {
     "data": {
      "text/plain": [
       "array([126,  62,  45, 127,  63,  46, 125,  61,  44, 124,  60,  43, 123,\n",
       "        59,  42, 108,  27, 107,  26, 106,  25, 109,  28, 110,  29,  90,\n",
       "        47,  30,  91,  48,  31,  89,  88,  24,  87,  23, 122,  58,  41,\n",
       "       105,  86,  22, 111, 112, 121,  57,  40, 104,  85,  21,  93,  12,\n",
       "        92,  11,  10,   9,   8,   7,   6,   5,   4,  72,  71,  70,  69,\n",
       "        68, 103,  39, 120,  56,  84,  20,   3,  67,  52,  53,  54,  55,\n",
       "        73,  74,  51,  50, 113,  49,  13,  94,  75, 114,  14, 115, 116,\n",
       "        32,  33,  76,  15,  95,  96,  16,  97, 117, 118, 119,  38, 102,\n",
       "        37, 101,  36,  35,  34, 100,  19,  83,   2,  66,  98,  77,  99,\n",
       "        78,  17,  18,  79,  80,  81,  82,   1,   0,  65,  64])"
      ]
     },
     "execution_count": 10,
     "metadata": {},
     "output_type": "execute_result"
    }
   ],
   "source": [
    "bestperm"
   ]
  },
  {
   "cell_type": "markdown",
   "id": "715675a5-e209-4c3c-9c72-b1577307ccce",
   "metadata": {},
   "source": [
    "# Some plots"
   ]
  },
  {
   "cell_type": "code",
   "execution_count": 11,
   "id": "118f29c4-b68d-4ab3-a96b-a4a9080ff40f",
   "metadata": {},
   "outputs": [],
   "source": [
    "cumulativeguessed = construct_A(bestperm)\n",
    "tests_achieved = construct_C(cumulativeguessed,test_prereqs_trim)\n",
    "test_points = np.diff(tests_achieved,axis=0,prepend=0)"
   ]
  },
  {
   "cell_type": "code",
   "execution_count": 12,
   "id": "a6de6b47-d45c-4e07-ad77-769dc05e28cd",
   "metadata": {},
   "outputs": [
    {
     "data": {
      "text/plain": [
       "Text(0.5, 1.0, 'bits guessed - bits of constraint')"
      ]
     },
     "execution_count": 12,
     "metadata": {},
     "output_type": "execute_result"
    },
    {
     "data": {
      "image/png": "[encoded data removed]",
      "text/plain": [
       "<Figure size 1600x400 with 3 Axes>"
      ]
     },
     "metadata": {},
     "output_type": "display_data"
    }
   ],
   "source": [
    "fig,axs = plt.subplots(1,3,figsize=(16,4))\n",
    "\n",
    "ax=axs[0]\n",
    "ax.plot(test_points @ testinfos_trim)\n",
    "ax.set_xlabel(\"step\")\n",
    "ax.set_ylabel(\"bits\")\n",
    "ax.set_title(\"bits of constraint at each step\")\n",
    "\n",
    "ax=axs[1]\n",
    "ax.plot(np.cumsum(test_points @ testinfos_trim))\n",
    "ax.set_xlabel(\"step\")\n",
    "ax.set_ylabel(\"total bits\")\n",
    "ax.set_title(\"cumulative bits of constraint\")\n",
    "\n",
    "ax=axs[2]\n",
    "ax.plot(np.arange(128)-np.cumsum(test_points @ testinfos_trim))\n",
    "ax.set_xlabel(\"step\")\n",
    "ax.set_ylabel(\"bit discrepency\")\n",
    "ax.set_title(\"bits guessed - bits of constraint\")"
   ]
  },
  {
   "cell_type": "code",
   "execution_count": 13,
   "id": "a88059b9-485b-4b2d-ae71-79662209a398",
   "metadata": {},
   "outputs": [],
   "source": [
    "def truncate_colormap(cmap, minval=0.0, maxval=1.0, tdim=100):\n",
    "    \"\"\"\n",
    "    Truncate a colormap by taking a segment between minval and maxval.\n",
    "\n",
    "    Parameters:\n",
    "        cmap : matplotlib colormap\n",
    "            Original colormap to be truncated.\n",
    "        minval : float, default 0.0\n",
    "            Minimum value to start truncating.\n",
    "        maxval : float, default 1.0\n",
    "            Maximum value for truncation.\n",
    "        tdim : int, default 100\n",
    "            Number of discrete colors to generate.\n",
    "\n",
    "    Returns:\n",
    "        new_cmap : matplotlib colormap\n",
    "            The truncated colormap.\n",
    "    \"\"\"\n",
    "    truncated_name = f\"trunc({cmap.name},{minval:.2f},{maxval:.2f})\"\n",
    "    new_cmap = mpl.colors.LinearSegmentedColormap.from_list(\n",
    "        truncated_name,\n",
    "        cmap(np.linspace(minval, maxval, tdim))\n",
    "    )\n",
    "    return new_cmap\n",
    "\n",
    "\n",
    "def calc_norm_limits(low, high):\n",
    "    \"\"\"\n",
    "    Calculate normalized limits for color mapping.\n",
    "\n",
    "    The function scales the input values so that the maximum absolute value is normalized\n",
    "    to 1, then adjusts the range to [0, 1].\n",
    "\n",
    "    Parameters:\n",
    "        low : float\n",
    "            Lower bound value.\n",
    "        high : float\n",
    "            Upper bound value.\n",
    "\n",
    "    Returns:\n",
    "        norm_low, norm_high : tuple of floats\n",
    "            Normalized lower and upper limits.\n",
    "    \"\"\"\n",
    "    # Ensure that low is no more than 0 and high is no less than 0\n",
    "    low = min(low, 0)\n",
    "    high = max(high, 0)\n",
    "\n",
    "    # Normalize by the maximum absolute value\n",
    "    scale_factor = max(abs(np.array([low, high])))\n",
    "    norm_low = low / scale_factor\n",
    "    norm_high = high / scale_factor\n",
    "\n",
    "    # Shift and scale to [0, 1]\n",
    "    norm_low = norm_low / 2 + 0.5\n",
    "    norm_high = norm_high / 2 + 0.5\n",
    "\n",
    "    return norm_low, norm_high\n",
    "\n",
    "\n",
    "def pltimshow(imshowdata, vmin=None, vmax=None, fig=None, ax=None, **kwargs):\n",
    "    \"\"\"\n",
    "    Display an image using imshow with a truncated colormap and an attached colorbar.\n",
    "\n",
    "    Parameters:\n",
    "        imshowdata : array-like\n",
    "            Image data to be displayed.\n",
    "        vmin : float, optional\n",
    "            Minimum data value for colormap scaling.\n",
    "        vmax : float, optional\n",
    "            Maximum data value for colormap scaling.\n",
    "        fig : matplotlib Figure, optional\n",
    "            Figure object; required if ax is provided.\n",
    "        ax : matplotlib Axes, optional\n",
    "            Axes object on which to draw the image.\n",
    "        **kwargs : dict\n",
    "            Additional keyword arguments passed to plt.imshow() or ax.imshow().\n",
    "    \"\"\"\n",
    "    # Mask invalid values in the image data\n",
    "    imshowdata = np.ma.masked_invalid(imshowdata)\n",
    "\n",
    "    # Set color scaling if not provided\n",
    "    if vmax is None:\n",
    "        vmax = np.max(imshowdata)\n",
    "    if vmin is None:\n",
    "        vmin = np.min(imshowdata)\n",
    "\n",
    "    # Calculate normalized limits for the colormap\n",
    "    norm_low, norm_high = calc_norm_limits(vmin, vmax)\n",
    "\n",
    "    # Get and truncate the colormap\n",
    "    cmap = mpl.colormaps.get_cmap(\"PiYG\").copy()\n",
    "    cmap = truncate_colormap(cmap, norm_low, norm_high, tdim=100)\n",
    "    cmap.set_bad(color='black')\n",
    "\n",
    "    if ax is None:\n",
    "        plt.imshow(imshowdata, cmap=cmap, vmin=vmin, vmax=vmax, **kwargs)\n",
    "        plt.colorbar()\n",
    "    else:\n",
    "        divider = make_axes_locatable(ax)\n",
    "        cax = divider.append_axes('right', size='10%', pad=0.15)\n",
    "        im = ax.imshow(imshowdata, cmap=cmap, vmin=vmin, vmax=vmax, **kwargs)\n",
    "        fig.colorbar(im, cax=cax, orientation='vertical')\n"
   ]
  },
  {
   "cell_type": "code",
   "execution_count": 14,
   "id": "888a6ba9-4511-4366-af60-90405bdb1696",
   "metadata": {},
   "outputs": [],
   "source": [
    "def split_sum_rejoin(arr: np.ndarray) -> np.ndarray:\n",
    "    R, total_columns = arr.shape\n",
    "    assert total_columns % (64 * 2) == 0, \"Invalid shape: total columns should be a multiple of 64*2\"\n",
    "    \n",
    "    N = total_columns // (64 * 2)  # Infer N from the shape\n",
    "    \n",
    "    # Split the array into two halves\n",
    "    half_size = total_columns // 2\n",
    "    first_half, second_half = arr[:, :half_size], arr[:, half_size:]\n",
    "    \n",
    "    # Reshape each half into (R, N, 64)\n",
    "    first_half = first_half.reshape(R, N, 64)\n",
    "    second_half = second_half.reshape(R, N, 64)\n",
    "    \n",
    "    # Sum over the N chunks\n",
    "    first_summed = first_half.sum(axis=1)  # Shape (R, 64)\n",
    "    second_summed = second_half.sum(axis=1)  # Shape (R, 64)\n",
    "    \n",
    "    # Concatenate the results along the last axis\n",
    "    output = np.concatenate([first_summed, second_summed], axis=1)  # Shape (R, 64*2)\n",
    "    \n",
    "    return output"
   ]
  },
  {
   "cell_type": "code",
   "execution_count": 15,
   "id": "28256edc-4c8e-4363-afba-3d730688c532",
   "metadata": {},
   "outputs": [],
   "source": [
    "stateprereqs = pickle.load(open('stateprereqs.pkl','rb'))"
   ]
  },
  {
   "cell_type": "code",
   "execution_count": 16,
   "id": "4ef68394-32fa-4605-b6ed-60bd44b8ced3",
   "metadata": {},
   "outputs": [
    {
     "data": {
      "text/plain": [
       "Text(0.5, 0, 'next state bit')"
      ]
     },
     "execution_count": 16,
     "metadata": {},
     "output_type": "execute_result"
    },
    {
     "data": {
      "image/png": "[encoded data removed]",
      "text/plain": [
       "<Figure size 1600x700 with 4 Axes>"
      ]
     },
     "metadata": {},
     "output_type": "display_data"
    }
   ],
   "source": [
    "fig,axs = plt.subplots(1,2,figsize=(16,7))\n",
    "\n",
    "ax =axs[0]\n",
    "pltimshow(cumulativeguessed,ax=ax,fig=fig)\n",
    "ax.set_xticks([0,64],['lo','hi'],)\n",
    "ax.set_title('guessed bits by step')\n",
    "ax.set_ylabel('step #')\n",
    "ax.set_xlabel('state bit')\n",
    "\n",
    "ax = axs[1]\n",
    "pltimshow(construct_C(cumulativeguessed,stateprereqs),ax=ax,fig=fig)\n",
    "ax.set_xticks([0,64],['nextLo','nextHi'],)\n",
    "ax.set_title('next state bits implied by step')\n",
    "ax.set_ylabel('step #')\n",
    "ax.set_xlabel('next state bit')"
   ]
  },
  {
   "cell_type": "code",
   "execution_count": null,
   "id": "b8e214f2-1ce2-4f39-ab53-cdaa5320d403",
   "metadata": {},
   "outputs": [],
   "source": []
  }
 ],
 "metadata": {
  "kernelspec": {
   "display_name": "Python 3 (ipykernel)",
   "language": "python",
   "name": "python3"
  },
  "language_info": {
   "codemirror_mode": {
    "name": "ipython",
    "version": 3
   },
   "file_extension": ".py",
   "mimetype": "text/x-python",
   "name": "python",
   "nbconvert_exporter": "python",
   "pygments_lexer": "ipython3",
   "version": "3.12.2"
  }
 },
 "nbformat": 4,
 "nbformat_minor": 5
}
